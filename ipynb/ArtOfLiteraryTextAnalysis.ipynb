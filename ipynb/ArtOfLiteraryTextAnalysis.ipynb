{
 "cells": [
  {
   "cell_type": "markdown",
   "metadata": {},
   "source": [
    "# The Art of Literary Text Analysis"
   ]
  },
  {
   "cell_type": "markdown",
   "metadata": {},
   "source": [
    "The Art of Literary Text Analysis (ALTA) has three objectives. \n",
    "\n",
    "- First, to introduce concepts and methodologies for literary text analysis programming. It doesn't assume you know how to program or how to use digital tools for analyzing texts. \n",
    "\n",
    "- Second, to show a range of analytical techniques for the study of texts. While it cannot explain and demonstrate everything, it provides a starting point for humanists with links to other materials.\n",
    "\n",
    "- Third, to provide utility notebooks you can use for operating on different texts. These are less well documented and combine ideas from the introductory notebooks.\n",
    "\n",
    "This instance of The Art of Literary Text Analysis is created in iPython Notebooks based on the Python scripting language. It is a <a href=\"Glossary.ipynb#Fork\" title=\"A cloned copy of a project which is set-up on a independent branch seperate to the original. \" >fork </a> of the original. Other programming choices are available, and many conceptual aspects of the guide are relevant regardless of the language and implementation. \n",
    "\n",
    "**iPython Notebooks** was chosen for three main reasons: \n",
    "\n",
    "1. Python (the programming language used in iPython Notebooks) features extensive support for text analysis and natural language processing; \n",
    "\n",
    "2. Python is a great programming language to learn for those learning to program for the first time – it's not easy, but it represents a good balance between power, speed, readability and learnability;\n",
    "\n",
    "3. iPython Notebooks offers a _literate programming_ model of writing where blocks of prose text (like this one) can be interspersed with bits of code and output allowing us to use it to write this guide in iPython and you to write up your experiments. _The Art of Literary Text Analysis_ focuses on the thinking through of analytical processes, and the documentation-rich format offered by iPython Notebooks is well-suited to the nature of this guide and to helping you think through what you want to do."
   ]
  },
  {
   "cell_type": "markdown",
   "metadata": {},
   "source": [
    "## Table of Contents"
   ]
  },
  {
   "cell_type": "markdown",
   "metadata": {},
   "source": [
    "This guide is a work in progress. It was developed over the Winter of 2015 in conjunction with a course on literary text mining at McGill. It is being <a href=\"Glossary.ipynb#Fork\" title=\"A cloned copy of a project which is set-up on a independent branch seperate to the original. \" >forked </a>  and extended for a course in the Winter of 2016 on big data and analysis at the University of Alberta. Here is the current outline:\n",
    "\n",
    "* First Encounters (basics for working with iPython Notebooks and digital texts)\n",
    "\t* [Getting Setup](GettingSetup.ipynb) (installing and setting up iPython Notebooks)\n",
    "\t* [Getting Started](GettingStarted.ipynb) (introducing core iPython Notebooks concepts)\n",
    "\t* [Getting Texts](GettingTexts.ipynb) (an example of acquiring digital texts)\n",
    "\t* [Getting NLTK](GettingNltk.ipynb) (foundations for text processing using the Natural Language Toolkit)\n",
    "\t* [Getting Graphical](GettingGraphical.ipynb) (foundations for visualizing data)\n",
    "* Close Encounters\n",
    "\t* [Searching for Meaning](SearchingMeaning.ipynb) (searching variant word forms and word meanings)\n",
    "\t* [Parts of Speech](PartsOfSpeech.ipynb) (analysing parts of speech (nouns, adjectives, verbs, etc.) of documents\n",
    "\t* [Repeating Phrases](RepeatingPhrases.ipynb) (analyzing repeating sequences of words)\n",
    "* Distant Encounters \n",
    "\t* [Sentiment Analysis](SentimentAnalysis.ipynb) (measuring opinion or mood of texts)\n",
    "    * [Topic Modelling](TopicModelling.ipynb) (finding recurring groups of terms)\n",
    "    * [Document Similarity](DocumentSimilarity.ipynb) (measuring and visualizing distances between documents)\n",
    "* Utility Examples\n",
    "    * [Simple Sentiment Analysis](utilities/SimpleSentimentAnalysis.ipynb) (measuring sentiment with a simple dictionary in the notebook)\n",
    "    * [Complex Sentiment Analysis](utilities/ComplexSentimentAnalysis.ipynb) (using research dictionaries to measure sentiment)\n",
    "    * [Collocates](utilities/Collocates.ipynb) (identifying collocates for a target word)\n",
    "    * [Concordances](utilities/Concordances.ipynb) (generating a concordance for a target word)\n",
    "    * [Exploring a text with NLTK](utilities/Exploring a text with NLTK.ipynb) (shows simple ways you can explore a text with NLTK.)\n",
    "* Resources\n",
    "    * [Useful Links](Useful Resources.ipynb) (A myriad of helpful python and text analysis resources)\n",
    "    * [Glossary](Glossary.ipynb) (Definitions and explanations for concepts and jargon)\n",
    "    "
   ]
  },
  {
   "cell_type": "markdown",
   "metadata": {
    "collapsed": true
   },
   "source": [
    "---\n",
    "[CC BY-SA](https://creativecommons.org/licenses/by-sa/4.0/) From [The Art of Literary Text Analysis](ArtOfLiteraryTextAnalysis.ipynb) by [Stéfan Sinclair](http://stefansinclair.name) &amp; [Geoffrey Rockwell](http://geoffreyrockwell.com). Edited and revised by [Melissa Mony](http://melissamony.com).\n",
    "<br >Created January 7, 2015 and last modified October 1st, 2016 (Jupyter 4.2.1)"
   ]
  }
 ],
 "metadata": {
  "kernelspec": {
   "display_name": "Python 2",
   "language": "python",
   "name": "python2"
  },
  "language_info": {
   "codemirror_mode": {
    "name": "ipython",
    "version": 2
   },
   "file_extension": ".py",
   "mimetype": "text/x-python",
   "name": "python",
   "nbconvert_exporter": "python",
   "pygments_lexer": "ipython2",
   "version": "2.7.15"
  }
 },
 "nbformat": 4,
 "nbformat_minor": 1
}
