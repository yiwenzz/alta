{
 "cells": [
  {
   "cell_type": "markdown",
   "metadata": {},
   "source": [
    "# Getting Graphical"
   ]
  },
  {
   "cell_type": "markdown",
   "metadata": {},
   "source": [
    "This notebook introduces graphical output for text processing. It's part of the [The Art of Literary Text Analysis](ArtOfLiteraryTextAnalysis.ipynb) and assumes that you've already worked through previous notebooks ([Getting Setup](GettingSetup.ipynb), [Getting Started](GettingStarted.ipynb),  [Getting Texts](GettingTexts.ipynb) and [Getting NLTK](GettingNltk.ipynb)). In this notebook we'll look in particular at:\n",
    "\n",
    "* [Plotting high frequency terms](#Plotting-Word-Frequency)\n",
    "* [Plotting a characteristic curve of word lengths](#The-Characteristic-Curve-of-Word-Lengths)\n",
    "* [Plotting a distribution graph of terms](#Graphing-Distribution)"
   ]
  },
  {
   "cell_type": "markdown",
   "metadata": {},
   "source": [
    "## Graphing in Jupyter"
   ]
  },
  {
   "cell_type": "markdown",
   "metadata": {},
   "source": [
    "The Anaconda bundle already comes with the Matlablib library, so nothing further to install.\n",
    "\n",
    "However, there's a very important step needed when graphing with iPython, you need to instruct the kernel to produce graphs inline the first time you generate a graph in a notebook. That's accomplished with this code:\n",
    "\n",
    "> %matplotlib inline\n",
    "\n",
    "If ever you forget to do that, your notebook might become unresponsive and you'll need to shutdown the kernel and start again. Even that's not a big deal, but best to avoid it.\n",
    "\n",
    "We can test simple graphing in a new notebook (let's call it `GettingGraphical`) to make sure that everything is working. The syntax below also shows how we can create a shorthand name for a library so that instead of always writing ```matplotlib.pyplot``` we can simply write ```plt```."
   ]
  },
  {
   "cell_type": "code",
   "execution_count": 1,
   "metadata": {},
   "outputs": [
    {
     "data": {
      "text/plain": [
       "[]"
      ]
     },
     "execution_count": 1,
     "metadata": {},
     "output_type": "execute_result"
    },
    {
     "data": {
      "image/png": "[encoded data removed]",
      "text/plain": [
       "<matplotlib.figure.Figure at 0x1064d1550>"
      ]
     },
     "metadata": {},
     "output_type": "display_data"
    }
   ],
   "source": [
    "import matplotlib.pyplot as plt\n",
    "\n",
    "# make sure that graphs are embedded into our notebook output\n",
    "%matplotlib inline\n",
    "\n",
    "plt.plot() # create an empty graph"
   ]
  },
  {
   "cell_type": "markdown",
   "metadata": {},
   "source": [
    "Wow, who knew such insights were possible with ipython, eh? :)"
   ]
  },
  {
   "cell_type": "markdown",
   "metadata": {},
   "source": [
    "## Plotting Word Frequency"
   ]
  },
  {
   "cell_type": "markdown",
   "metadata": {},
   "source": [
    "The previous notebook on [Getting NLTK](GettingNltk.ipynb) explained the basics of tokenization, filtering, listing frequencies and <a href=\"Glossary.ipynb#Concordance\" title=\"A list of all words within a text and their frequency of occurrence.\" >concordances. </a> If you need to recapitulate the essentials of the previous notebook, try running this:\n",
    "\n",
    "```python\n",
    "import urllib.request\n",
    "# retrieve Poe plain text value\n",
    "poeUrl = \"http://www.gutenberg.org/files/2147/2147-0.txt\"\n",
    "poeString = urllib.request.urlopen(poeUrl).read().decode()```\n",
    "\n",
    "And then this, in a separate <a href=\"Glossary.ipynb#cell\" title=\"An input strucutre in a Notebook which runs either Markdown or Python code\" >cell </a> so that we don't read repeatedly from Gutenberg:\n",
    "\n",
    "```python\n",
    "import os\n",
    "# isolate The Gold Bug\n",
    "start = poeString.find(\"THE GOLD-BUG\")\n",
    "end = poeString.find(\"FOUR BEASTS IN ONE\")\n",
    "goldBugString = poeString[start:end]\n",
    "# save the file locally\n",
    "directory = \"data\"\n",
    "if not os.path.exists(directory):\n",
    "    os.makedirs(directory)\n",
    "with open(\"data/goldBug.txt\", \"w\") as f:\n",
    "    f.write(goldBugString)```\n",
    "\n",
    "Let's pick up where we left off by (re)reading our _Gold Bug_ text, tokenizing, filtering to keep only words, calculating frequencies and showing a table of the top frequency words. We'd previously created a filtered list that removed <a href=\"Glossary.ipynb#stopwords\" title=\"A list of words which are programmed to be ignored or filtered in analysis and search queries.\" >stop-words </a> (very common syntactic words that don't carry much meaning), but for now we'll keep all words."
   ]
  },
  {
   "cell_type": "code",
   "execution_count": 13,
   "metadata": {},
   "outputs": [
    {
     "name": "stdout",
     "output_type": "stream",
     "text": [
      " the   of  and    i   to    a   in   it  you  was that with   as  for  had   at   he this  but   we \n",
      " 877  465  359  336  329  327  238  213  162  137  130  114  113  113  110  108  103   99   99   98 \n"
     ]
    }
   ],
   "source": [
    "import nltk\n",
    "\n",
    "# read Gold Bug plain text into string\n",
    "with open(\"data/goldBug.txt\", \"r\") as f:\n",
    "    goldBugString = f.read()\n",
    "\n",
    "# simple lowercase tokenize\n",
    "goldBugTokensLowercase = nltk.word_tokenize(goldBugString.lower())\n",
    "\n",
    "# filter out tokens that aren't words\n",
    "goldBugWordTokensLowercase = [word for word in goldBugTokensLowercase if word[0].isalpha()]\n",
    "\n",
    "# determine frequencies\n",
    "goldBugWordTokensLowercaseFreqs = nltk.FreqDist(goldBugWordTokensLowercase)\n",
    "\n",
    "# preview the top 20 frequencies\n",
    "goldBugWordTokensLowercaseFreqs.tabulate(20)"
   ]
  },
  {
   "cell_type": "markdown",
   "metadata": {},
   "source": [
    "This table is useful for ranking the top frequency terms (from left to right), though it's difficult to get a sense from the numbers of how the frequencies compare. Do the numbers drop gradually, precipitously or irregularly? This is a perfect scenario for experimenting with visualization by producing a simple graph.\n",
    "\n",
    "In addition to the ```tabulate()``` <a href=\"Glossary.ipynb#Function\" title=\"functions provide functionality to a program\" >function, </a> the frequencies (FreqDist) <a href=\"Glossary.ipynb#Object\" title=\"Data which has attributes or values AND a defined behaviour.\" >object </a> that we created as a ```plot()``` function, conveniently plots a graph of the top frequency terms. Again, in order to embed a graph in the output of an iPython Notebook we need to give the following special instruction: ```%matplotlib inline```. It's ok to repeat this several times in a notebook, but like an ```import``` statement, we really just need to do this once for the first <a href=\"Glossary.ipynb#cell\" title=\"An input strucutre in a Notebook which runs either Markdown or Python code\" >cell </a> in the notebook where it's relevant."
   ]
  },
  {
   "cell_type": "code",
   "execution_count": 3,
   "metadata": {},
   "outputs": [
    {
     "data": {
      "image/png": "[encoded data removed]",
      "text/plain": [
       "<matplotlib.figure.Figure at 0x10702bc18>"
      ]
     },
     "metadata": {},
     "output_type": "display_data"
    }
   ],
   "source": [
    "# make sure that graphs are embedded into our notebook output\n",
    "%matplotlib inline\n",
    "\n",
    "# plot the top frequency words in a graph\n",
    "goldBugWordTokensLowercaseFreqs.plot(25, title=\"Top Frequency Word Tokens in Gold Bug\")"
   ]
  },
  {
   "cell_type": "markdown",
   "metadata": {},
   "source": [
    "This graph shows not only the rank of the words (along the bottom x axis), but is also much more effective than the table at showing the steep decline in frequency as we move away from the first words. This is actually a well-known phenomenon with natural language and is described by Zipf's law, which the [Wikipedia article](http://en.wikipedia.org/wiki/Zipf's_law) nicely summarizes:\n",
    "\n",
    "> Zipf's law states that given some corpus of natural language utterances, the frequency of any word is inversely proportional to its rank in the frequency table. Thus the most frequent word will occur approximately twice as often as the second most frequent word, three times as often as the third most frequent word, etc. \n",
    "\n",
    "As we continue to explore frequency of words, it's useful to keep in mind the distinction between frequency rank and the actual number of words (tokens) that each word form (type) is contributing."
   ]
  },
  {
   "cell_type": "markdown",
   "metadata": {},
   "source": [
    "## The Characteristic Curve of Word Lengths"
   ]
  },
  {
   "cell_type": "markdown",
   "metadata": {},
   "source": [
    "One of the first examples we have of quantitative stylistics (text analysis) is an 1887 study by T.C. Mendenhall who manually counted the length of words and used that to suggest that authors had a distinctive stylistic signature, based on the average word length of their writings. In some ways this is similar to the type/token ratio we saw in the previous notebook, as it tries to measure stylistic features of texts without considering (yet) what the words may mean. It also uses all words, even the function words that authors are maybe using less deliberately. Unlike with the type/token ratios, Mendenhall's Characteristic Curve is less sensitive to changes in the total text length. If an author uses relatively longer words, chances are that style will persist throughout a text (which is different from comparing type/token ratios for a text of 1,000 words or 100,000 words).\n",
    "\n",
    "To calculate the frequencies of terms, we can start by replacing each word in our tokens list with the length of that word. So, instead of this:\n",
    "\n",
    "```python\n",
    "[word for word in tokens]```\n",
    "\n",
    "we have this:\n",
    "\n",
    "```python\n",
    "[len(word) for word in tokens]```"
   ]
  },
  {
   "cell_type": "code",
   "execution_count": 4,
   "metadata": {},
   "outputs": [
    {
     "name": "stdout",
     "output_type": "stream",
     "text": [
      "first five words:  ['the', 'gold-bug', 'what', 'ho', 'what']\n",
      "first five word lengths:  [3, 8, 4, 2, 4]\n"
     ]
    }
   ],
   "source": [
    "goldBugLowerCaseWordTokenLengths = [len(w) for w in goldBugWordTokensLowercase]\n",
    "print(\"first five words: \", goldBugWordTokensLowercase[:5])\n",
    "print(\"first five word lengths: \", goldBugLowerCaseWordTokenLengths[:5])"
   ]
  },
  {
   "cell_type": "markdown",
   "metadata": {},
   "source": [
    "That looks right, \"the\" is 3 letters, \"gold-bug\" is 8, etc.\n",
    "\n",
    "Now, just as we counted the frequencies of repeating words, we can count the frequencies of repeating word lengths."
   ]
  },
  {
   "cell_type": "code",
   "execution_count": 5,
   "metadata": {},
   "outputs": [
    {
     "data": {
      "image/png": "[encoded data removed]",
      "text/plain": [
       "<matplotlib.figure.Figure at 0x10c11a550>"
      ]
     },
     "metadata": {},
     "output_type": "display_data"
    }
   ],
   "source": [
    "nltk.FreqDist(goldBugLowerCaseWordTokenLengths).plot()"
   ]
  },
  {
   "cell_type": "markdown",
   "metadata": {},
   "source": [
    "That was easy, but not really what we want, since the word lengths on the bottom axis are ordered by frequency (3 is the most common word length, followed by 2, and then 4). The default behaviour of ordering by frequency was useful for words, but not as useful here if we want to order by word length.\n",
    "\n",
    "To accomplish what we want, we'll extract items from the frequency list, which provides a sorting by key (by word length), and then create a list from that.\n",
    "\n"
   ]
  },
  {
   "cell_type": "code",
   "execution_count": 6,
   "metadata": {},
   "outputs": [
    {
     "data": {
      "text/plain": [
       "[(1, 697),\n",
       " (2, 2627),\n",
       " (3, 3092),\n",
       " (4, 2441),\n",
       " (5, 1360),\n",
       " (6, 931),\n",
       " (7, 898),\n",
       " (8, 550),\n",
       " (9, 460),\n",
       " (10, 301),\n",
       " (11, 145),\n",
       " (12, 81),\n",
       " (13, 43),\n",
       " (14, 10),\n",
       " (15, 3)]"
      ]
     },
     "execution_count": 6,
     "metadata": {},
     "output_type": "execute_result"
    }
   ],
   "source": [
    "goldBugLowerCaseWordTokenLengthFreqs = list(sorted(nltk.FreqDist(goldBugLowerCaseWordTokenLengths).items()))\n",
    "goldBugLowerCaseWordTokenLengthFreqs # sorted by word length (not frequency)"
   ]
  },
  {
   "cell_type": "markdown",
   "metadata": {},
   "source": [
    "Formally, this is a list of <a href=\"Glossary.ipynb#Tuple\" title=\"A sequence of immutable (fixed) objects\" >tuples </a> where each line represents an item in the list and within each line item there's a fixed-order <a href=\"Glossary.ipynb#Tuple\" title=\"A sequence of immutable (fixed) objects\" >tuple </a>  of two numbers, the first for the word length and the second for the frequency. Since lists don't have a built-in ```plot()``` <a href=\"Glossary.ipynb#Function\" title=\"functions provide functionality to a program\" >function </a> – unlike FreqDist that we used previously to plot high frequency words – we need to call the graphing library directly and plot the x (word lengths) and y (frequencies)."
   ]
  },
  {
   "cell_type": "code",
   "execution_count": 7,
   "metadata": {},
   "outputs": [
    {
     "data": {
      "text/plain": [
       "<matplotlib.text.Text at 0x10c166da0>"
      ]
     },
     "execution_count": 7,
     "metadata": {},
     "output_type": "execute_result"
    },
    {
     "data": {
      "image/png": "[encoded data removed]",
      "text/plain": [
       "<matplotlib.figure.Figure at 0x10c215be0>"
      ]
     },
     "metadata": {},
     "output_type": "display_data"
    }
   ],
   "source": [
    "import matplotlib.pyplot as plt\n",
    "\n",
    "goldBugLowerCaseWordTokenWordLengths = [f[0] for f in goldBugLowerCaseWordTokenLengthFreqs]\n",
    "goldBugLowerCaseWordTokenWordLengthValues = [f[1] for f in goldBugLowerCaseWordTokenLengthFreqs]\n",
    "plt.plot(goldBugLowerCaseWordTokenWordLengths, goldBugLowerCaseWordTokenWordLengthValues)\n",
    "plt.xlabel('Word Length')\n",
    "plt.ylabel('Word Count')"
   ]
  },
  {
   "cell_type": "markdown",
   "metadata": {},
   "source": [
    "That's pretty darn close to what some of Mendenhall's graphs looked like, such as this one for the first thousand words of _Oliver Twist_:\n",
    "\n",
    "![Characteristic Curve](images/characteristic-curve-mendenhall.png)\n",
    "\n",
    "Thank goodness we didn't need to count tens of thousands of tokens by hand (an error-prone process) like Mendenhall did!\n",
    "\n",
    "On its own, one characteristic curve isn't terribly useful since the point is to compare an author's curve with another, but for now at least we know we can fairly easily generate the output for one text. For now, let's shift back to working with words."
   ]
  },
  {
   "cell_type": "markdown",
   "metadata": {},
   "source": [
    "## Graphing Distribution"
   ]
  },
  {
   "cell_type": "markdown",
   "metadata": {},
   "source": [
    "As we saw in the previous notebooks, sometimes it's useful to work with all word tokens (like when measuring Zipf's Law or aggregate word length) but typically we need to strip out function words to start studying the meaning of texts. Let's recapitulate the filtering steps."
   ]
  },
  {
   "cell_type": "code",
   "execution_count": 8,
   "metadata": {},
   "outputs": [
    {
     "data": {
      "text/plain": [
       "[('upon', 81),\n",
       " ('de', 73),\n",
       " (\"'s\", 56),\n",
       " ('jupiter', 53),\n",
       " ('legrand', 47),\n",
       " ('one', 38),\n",
       " ('said', 35),\n",
       " ('well', 35),\n",
       " ('massa', 34),\n",
       " ('could', 33),\n",
       " ('bug', 32),\n",
       " ('skull', 29),\n",
       " ('parchment', 27),\n",
       " ('made', 25),\n",
       " ('tree', 25),\n",
       " ('time', 24),\n",
       " ('first', 24),\n",
       " ('much', 23),\n",
       " ('us', 23),\n",
       " ('two', 23)]"
      ]
     },
     "execution_count": 8,
     "metadata": {},
     "output_type": "execute_result"
    }
   ],
   "source": [
    "stopwords = nltk.corpus.stopwords.words(\"English\")\n",
    "goldBugContentWordTokensLowercase = [word for word in goldBugWordTokensLowercase if word not in stopwords]\n",
    "goldBugContentWordTokensLowercaseFreqs = nltk.FreqDist(goldBugContentWordTokensLowercase)\n",
    "goldBugContentWordTokensLowercaseFreqs.most_common(20)"
   ]
  },
  {
   "cell_type": "markdown",
   "metadata": {},
   "source": [
    "Ok, now that we've done some plotting, we could graph the top frequency content terms, though it may be harder to read the words."
   ]
  },
  {
   "cell_type": "code",
   "execution_count": 9,
   "metadata": {},
   "outputs": [
    {
     "data": {
      "image/png": "[encoded data removed]",
      "text/plain": [
       "<matplotlib.figure.Figure at 0x10c174518>"
      ]
     },
     "metadata": {},
     "output_type": "display_data"
    }
   ],
   "source": [
    "goldBugContentWordTokensLowercaseFreqs.plot(20, title=\"Top Frequency Content Terms in Gold Bug\")"
   ]
  },
  {
   "cell_type": "markdown",
   "metadata": {},
   "source": [
    "As we'd noticed in the last notebook, the words \"jupiter\" and \"legrand\" are suspiciously high frequency (for relatively uncommon words), which may suggest that they're being used as character names in the story. We can regenerate our NLTK text <a href=\"Glossary.ipynb#Object\" title=\"Data which has attributes or values AND a defined behaviour.\" >object </a> and ask for <a href=\"Glossary.ipynb#Concordance\" title=\"A list of all words within a text and their frequency of occurrence.\" >concordances </a> of each to confirm this hypothesis. To help differentiate between upper and lowercase words, we'll re-tokenize the text and not perform any case alternation or filtering."
   ]
  },
  {
   "cell_type": "code",
   "execution_count": 10,
   "metadata": {},
   "outputs": [
    {
     "name": "stdout",
     "output_type": "stream",
     "text": [
      "Displaying 5 of 53 matches:\n",
      "ccompanied by an old negro , called Jupiter , who had been manumitted before th\n",
      "rived to instil this obstinacy into Jupiter , with a view to the supervision an\n",
      "nd gave me a most cordial welcome . Jupiter , grinning from ear to ear , bustle\n",
      " had hunted down and secured , with Jupiter 's assistance , a scarabæus which h\n",
      "tellin on you , '' here interrupted Jupiter ; `` de bug is a goole bug , solid \n",
      "Displaying 5 of 47 matches:\n",
      "cted an intimacy with a Mr. William Legrand . He was of an ancient Huguenot fam\n",
      " or more remote end of the island , Legrand had built himself a small hut , whi\n",
      "ot improbable that the relatives of Legrand , conceiving him to be somewhat uns\n",
      "repare some marsh-hens for supper . Legrand was in one of his fits -- how else \n",
      " only known you were here ! '' said Legrand , `` but it 's so long since I saw \n"
     ]
    }
   ],
   "source": [
    "goldBugText = nltk.Text(nltk.word_tokenize(goldBugString))\n",
    "goldBugText.concordance(\"jupiter\", lines=5)\n",
    "goldBugText.concordance(\"legrand\", lines=5)"
   ]
  },
  {
   "cell_type": "markdown",
   "metadata": {},
   "source": [
    "Are these two character names present throughout the story? One way to get a quick sense is to create a <a href=\"Glossary.ipynb#dispersionplot\" title=\"A graph which uses cartesian coordinates to display values for multiple variables of a set of data.\" >dispersion plot </a> which is essentially a distribution graph of occurrences. Note that [dispersion_plot()](http://www.nltk.org/api/nltk.html?highlight=dispersion_plot#nltk.text.Text.dispersion_plot) takes a list of words as an <a href=\"Glossary.ipynb#argument\" title=\"A value which is passed to a function when called\" > argument, </a> but that the words are case-sensitive (unlike the ```concordance()``` function). Since case matters, for other purposes it might have been preferable to use the lowercase tokens instead."
   ]
  },
  {
   "cell_type": "code",
   "execution_count": 11,
   "metadata": {},
   "outputs": [
    {
     "data": {
      "image/png": "[encoded data removed]",
      "text/plain": [
       "<matplotlib.figure.Figure at 0x10c3f5780>"
      ]
     },
     "metadata": {},
     "output_type": "display_data"
    }
   ],
   "source": [
    "goldBugText.dispersion_plot([\"Jupiter\", \"Legrand\"])"
   ]
  },
  {
   "cell_type": "markdown",
   "metadata": {},
   "source": [
    "This graph suggests that there are many more occurrences of the character names in the first half of the text. This doesn't necessarily mean that the characters are not as present in the second half, but their names appear less often (perhaps because of a shift in dialogue structure or narrative focus)."
   ]
  },
  {
   "cell_type": "markdown",
   "metadata": {},
   "source": [
    "## Next Steps"
   ]
  },
  {
   "cell_type": "markdown",
   "metadata": {},
   "source": [
    "Here are some tasks to try:\n",
    "\n",
    "* Generate a simple list of the top 20 frequency lowercase content terms (without counts, just the terms)\n",
    "* Create a <a href=\"Glossary.ipynb#dispersionplot\" title=\"A graph which uses cartesian coordinates to display values for multiple variables of a set of data.\" >dispersion plot </a> of these terms, do any other stand out as irregularly distributed?\n",
    "* Try the command [goldBugText.collocations()](http://www.nltk.org/api/nltk.html?highlight=text#nltk.text.Text.collocations) – what does this do? how might it be useful?\n",
    "\n",
    "In the next notebook we're going to look at more powerful ways of matching terms and [Searching Meaning](SearchingMeaning.ipynb)."
   ]
  },
  {
   "cell_type": "markdown",
   "metadata": {},
   "source": [
    "---\n",
    "[CC BY-SA](https://creativecommons.org/licenses/by-sa/4.0/) From [The Art of Literary Text Analysis](ArtOfLiteraryTextAnalysis.ipynb) by [Stéfan Sinclair](http://stefansinclair.name) &amp; [Geoffrey Rockwell](http://geoffreyrockwell.com). Edited and revised by [Melissa Mony](http://melissamony.com). <br >Created January 27, 2015 and last modified December 9, 2015 (Jupyter 4)"
   ]
  },
  {
   "cell_type": "code",
   "execution_count": null,
   "metadata": {
    "collapsed": true
   },
   "outputs": [],
   "source": []
  }
 ],
 "metadata": {
  "kernelspec": {
   "display_name": "Python 2",
   "language": "python",
   "name": "python2"
  },
  "language_info": {
   "codemirror_mode": {
    "name": "ipython",
    "version": 2
   },
   "file_extension": ".py",
   "mimetype": "text/x-python",
   "name": "python",
   "nbconvert_exporter": "python",
   "pygments_lexer": "ipython2",
   "version": "2.7.15"
  }
 },
 "nbformat": 4,
 "nbformat_minor": 1
}
