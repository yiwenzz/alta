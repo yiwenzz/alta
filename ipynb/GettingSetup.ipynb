{
 "cells": [
  {
   "cell_type": "markdown",
   "metadata": {},
   "source": [
    "# Getting Setup: Installing Jupyter\n",
    "\n",
    "This notebook describes how to get setup with Jupyter (formerly iPython Notebooks). It's part of the [The Art of Literary Text Analysis](ArtOfLiteraryTextAnalysis.ipynb). In particular, we'll look at:\n",
    "\n",
    "* [Downloading and installing Jupyter](#Downloading-and-Installing-Jupyter-with-Anaconda)\n",
    "* [Launching Jupyter and creating a working directory](#Launching-Jupyter)\n",
    "* [Creating a notebook](#Creating-a-Notebook)\n",
    "* [Quitting Jupyter](#Quitting-Jupyter)"
   ]
  },
  {
   "cell_type": "markdown",
   "metadata": {},
   "source": [
    "## Downloading and Installing Jupyter with Anaconda\n",
    "\n",
    "[<img src=\"images/logo_anaconda.png\" alt=\"Anaconda logo\" style=\"float: right; width: 100px; margin-left: 1em;\" />](https://www.continuum.io/downloads)  Setting up Jupyter is (usually) a smooth and painless process. The easiest and recommended option is to [download and install Anaconda](https://www.continuum.io/downloads), which is a freely available bundle that includes Python, Jupyter, and several other things that will be useful to us. It's *very important* for the purposes of our notebooks to select a version for [Mac OS X](https://www.continuum.io/downloads#_macosx), [Windows](https://www.continuum.io/downloads#_windows) or [Linux](https://www.continuum.io/downloads#_unix) of **Anaconda with Python 3.x** (not Python 2.x).\n",
    "\n",
    "Once the Anaconda 3.x installer program is downloaded you can click on the installer and follow the instructions (using the defaults will work just fine). If you encounter difficulties, you may want to consult the [Jupyter installation documentation](http://jupyter.readthedocs.org/en/latest/install.html)."
   ]
  },
  {
   "cell_type": "markdown",
   "metadata": {},
   "source": [
    "## Launching Jupyter\n",
    "\n",
    "<img src=\"images/anaconda-launcher.png\" alt=\"Anaconda Launcher\" style=\"float: right; width: 75px; margin-left: 1em;\" /> Once you've installed Anaconda, the easiest way to launch Jupyter is to use the Anaconda Launcher. During a normal setup on Mac, there should be a Launcher icon created on your desktop – you can click on that. On Windows, you should find Anaconda in your Programs hierarchy.\n",
    "\n",
    "The Anaconda Launcher will present several applications to choose from, we'll click on the _Launch_ button of _notebook_ (Jupyter Notebook):\n",
    "\n",
    "<img src=\"images/anaconda-launcher-menu-2.png\" alt=\"Anaconda Launcher\" style=\"max-width: 800px; margin-left: auto; margin-right: auto; border: thin solid #ccc;\" />\n",
    "\n",
    "This should launch two more windows:\n",
    "\n",
    "1. A terminal window where the Jupyter server <a href=\"Glossary.ipynb#kernel\" title=\"The core computer program of the operating system which can control all system processes\" >(kernel) </a> is running (this will be used to quit Jupyter later), and\n",
    "1. A web browser window that shows a <a href=\"Glossary.ipynb#directorytree\" title=\"A tree like structure which represents the organization and hierachy of files within a directory\" >directory tree </a> for the default path of Jupyter.\n",
    "\n",
    "The default path on a Mac is the user's \"Home\" directory. We probably don't want to create Jupyter notebooks there, so we'll navigate to another directory (like \"Documents\") and create a new folder (like \"Notebooks\"). The location and names aren't important but we'll need to remember where our notebooks are for future use."
   ]
  },
  {
   "cell_type": "markdown",
   "metadata": {},
   "source": [
    "## Creating Folders\n",
    "To create a new folder or notebook you use the _New_ button in the directory browser window.\n",
    "\n",
    "<img src=\"images/ipython-notebook-root-tree.png\" alt=\"Jupyter Directory\" style=\"max-width: 800px; margin-left: auto; margin-right: auto; border: thin solid #ccc;\" />\n",
    "\n",
    "Creating a new folder gives a default name (like \"Untitled Folder\") but we can select the folder using the checkbox to the left and then click the rename button that appears before giving the folder a new name.\n",
    "\n",
    "<img src=\"images/folder-rename.png\" alt=\"Folder rename\" style=\"max-width: 800px; margin-left: auto; margin-right: auto; border: thin solid #ccc;\" />\n",
    "\n",
    "Now we have Jupyter running and we have a new folder for our notebooks, we're ready for the next step in [Getting Started](GettingStarted.ipynb). But just before that, let's look at how we quit Jupyter."
   ]
  },
  {
   "cell_type": "markdown",
   "metadata": {},
   "source": [
    "## Creating a Notebook\n",
    "\n",
    "Now you can create your first notebook. Use the same _New_ menu and pull down to the **Python 3** under the Notebooks heading in the menu. This will create your first notebook. We will review this and how to use notebooks in the next notebook [Getting Started](GettingStarted.ipynb)."
   ]
  },
  {
   "cell_type": "markdown",
   "metadata": {},
   "source": [
    "## Quitting Jupyter\n",
    "\n",
    "The browser window that was opened by the Anaconda Launcher is just a regular window. If we'd been working on a notebook, we'd of course want to save our work before quitting. We don't need to do this for browser (directory) windows. We can close the browser window(s) created by Jupyter in the usual browser way. Then we have to shut down the server <a href=\"Glossary.ipynb#kernel\" title=\"The core computer program of the operating system which can control all system processes\" >(kernel). </a> To do that we do the following:\n",
    "\n",
    "1. _Close and Halt_ any notebooks you have running by going to the _File_ menu of each running notebook,\n",
    "1. Switch to the terminal window that was opened by the launcher and hit Ctrl-c twice (keep your finger on the Control key and press the \"c\" twice), then\n",
    "1. Switch to the Anaconda Launcher application and quit it (just as you would any other application)."
   ]
  },
  {
   "cell_type": "markdown",
   "metadata": {},
   "source": [
    "## Next Steps\n",
    "\n",
    "Let's now proceed to [Getting Started](GettingStarted.ipynb)."
   ]
  },
  {
   "cell_type": "markdown",
   "metadata": {},
   "source": [
    "---\n",
    "[CC BY-SA](https://creativecommons.org/licenses/by-sa/4.0/) From [The Art of Literary Text Analysis](ArtOfLiteraryTextAnalysis.ipynb) by [Stéfan Sinclair](http://stefansinclair.name) &amp; [Geoffrey Rockwell](http://geoffreyrockwell.com). Edited and revised by [Melissa Mony](http://melissamony.com).\n",
    "<br >Created January 7, 2015 and last modified April 21st, 2015 (Jupyter 4.2)"
   ]
  },
  {
   "cell_type": "code",
   "execution_count": null,
   "metadata": {
    "collapsed": true
   },
   "outputs": [],
   "source": []
  }
 ],
 "metadata": {
  "kernelspec": {
   "display_name": "Python 2",
   "language": "python",
   "name": "python2"
  },
  "language_info": {
   "codemirror_mode": {
    "name": "ipython",
    "version": 2
   },
   "file_extension": ".py",
   "mimetype": "text/x-python",
   "name": "python",
   "nbconvert_exporter": "python",
   "pygments_lexer": "ipython2",
   "version": "2.7.15"
  }
 },
 "nbformat": 4,
 "nbformat_minor": 1
}
